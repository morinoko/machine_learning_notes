{
 "cells": [
  {
   "cell_type": "markdown",
   "metadata": {},
   "source": [
    "# NumPy Introduction\n",
    "\n",
    "NumPy is a package for scientific computing that gives Python an extensive, efficient math library. It has many features that make it better for mathmatical computations compared to using plain Python lists, including speed! It is memory-efficient and optimized for doing arithmatic, statistical, and linear algebra operations.\n",
    "\n",
    "NumPy has multidimensional array data structures that represent vectors and matrices used in linear algebra, which are in turn used heavily in machine learning algorithms.\n",
    "\n",
    "Numpy also has many built-in (and optimized) mathmatical functions that allow you to do complex computations quickly and without the need to write tons of code.\n",
    "\n",
    "Install with `conda install numpy`\n",
    "\n",
    "Documentation:\n",
    "- [NumPy Manual](https://docs.scipy.org/doc/numpy-1.13.0/contents.html)\n",
    "- [NumPy User Guide](https://docs.scipy.org/doc/numpy-1.13.0/user/index.html)\n",
    "- [NumPy Reference](https://docs.scipy.org/doc/numpy-1.13.0/reference/index.html#reference)\n",
    "- [Scipy Lectures](http://www.scipy-lectures.org/intro/numpy/index.html)"
   ]
  },
  {
   "cell_type": "code",
   "execution_count": 1,
   "metadata": {},
   "outputs": [],
   "source": [
    "# importing numpy\n",
    "import numpy as np"
   ]
  },
  {
   "cell_type": "markdown",
   "metadata": {},
   "source": [
    "Compare regular python vs numpy when calculating the mean of a huge set of numbers"
   ]
  },
  {
   "cell_type": "code",
   "execution_count": 2,
   "metadata": {},
   "outputs": [],
   "source": [
    "import time\n",
    "\n",
    "x = np.random.random(100000000)"
   ]
  },
  {
   "cell_type": "code",
   "execution_count": 3,
   "metadata": {},
   "outputs": [
    {
     "name": "stdout",
     "output_type": "stream",
     "text": [
      "12.900490045547485\n"
     ]
    }
   ],
   "source": [
    "start = time.time()\n",
    "\n",
    "sum(x)/len(x)\n",
    "\n",
    "print(time.time() - start)"
   ]
  },
  {
   "cell_type": "code",
   "execution_count": 4,
   "metadata": {},
   "outputs": [
    {
     "name": "stdout",
     "output_type": "stream",
     "text": [
      "0.06459307670593262\n"
     ]
    }
   ],
   "source": [
    "start = time.time()\n",
    "\n",
    "np.mean(x)\n",
    "\n",
    "print(time.time() - start)"
   ]
  },
  {
   "cell_type": "markdown",
   "metadata": {},
   "source": [
    "## NumPy ndarrays\n",
    "\n",
    "__ndarray__ stands for n-dimensional array and is a multidimensional array of elements all of the same type. They can hold numbers or strings, or other types.\n",
    "\n",
    "Often used in machine learning. For example, an ndarray could be used to hold pixel values of an image to input into a neural network for image processing/classification.\n",
    "\n",
    "NumPy can handle more data types than python.\n",
    "\n",
    "### Creating\n",
    "\n",
    "Method 1 for creation:\n",
    "Create by providing python lists to NumPy's `np.array()`"
   ]
  },
  {
   "cell_type": "code",
   "execution_count": 5,
   "metadata": {},
   "outputs": [
    {
     "name": "stdout",
     "output_type": "stream",
     "text": [
      "[1 2 3 4 5]\n",
      "<class 'numpy.ndarray'>\n"
     ]
    }
   ],
   "source": [
    "x = np.array([1, 2, 3, 4, 5]) # 1-d array or a rank 1 array\n",
    "\n",
    "print(x)\n",
    "print(type(x))"
   ]
  },
  {
   "cell_type": "code",
   "execution_count": 6,
   "metadata": {},
   "outputs": [
    {
     "data": {
      "text/plain": [
       "dtype('int64')"
      ]
     },
     "execution_count": 6,
     "metadata": {},
     "output_type": "execute_result"
    }
   ],
   "source": [
    "# return dtype of elements in the array\n",
    "x.dtype"
   ]
  },
  {
   "cell_type": "markdown",
   "metadata": {},
   "source": [
    "### ndarray methods"
   ]
  },
  {
   "cell_type": "code",
   "execution_count": 7,
   "metadata": {},
   "outputs": [
    {
     "name": "stdout",
     "output_type": "stream",
     "text": [
      "[[ 1  2  3]\n",
      " [ 4  5  6]\n",
      " [ 7  8  9]\n",
      " [10 11 12]]\n"
     ]
    }
   ],
   "source": [
    "Y = np.array([[1, 2, 3], [4, 5, 6], [7, 8, 9], [10, 11, 12]])\n",
    "# this is a 2-d array, or rank 2 array\n",
    "\n",
    "print(Y)"
   ]
  },
  {
   "cell_type": "markdown",
   "metadata": {},
   "source": [
    "#### Shape\n",
    "See the dimesions, returned as a tuple.\n",
    "You can see Y is 2-dimensional "
   ]
  },
  {
   "cell_type": "code",
   "execution_count": 8,
   "metadata": {},
   "outputs": [
    {
     "data": {
      "text/plain": [
       "(4, 3)"
      ]
     },
     "execution_count": 8,
     "metadata": {},
     "output_type": "execute_result"
    }
   ],
   "source": [
    "Y.shape"
   ]
  },
  {
   "cell_type": "markdown",
   "metadata": {},
   "source": [
    "Shape of a rank 1 array:"
   ]
  },
  {
   "cell_type": "code",
   "execution_count": 9,
   "metadata": {},
   "outputs": [
    {
     "data": {
      "text/plain": [
       "(5,)"
      ]
     },
     "execution_count": 9,
     "metadata": {},
     "output_type": "execute_result"
    }
   ],
   "source": [
    "x = np.array([1, 2, 3, 4, 5])\n",
    "x.shape"
   ]
  },
  {
   "cell_type": "markdown",
   "metadata": {},
   "source": [
    "#### Size\n",
    "Get how many elements are in an array"
   ]
  },
  {
   "cell_type": "code",
   "execution_count": 10,
   "metadata": {},
   "outputs": [
    {
     "data": {
      "text/plain": [
       "12"
      ]
     },
     "execution_count": 10,
     "metadata": {},
     "output_type": "execute_result"
    }
   ],
   "source": [
    "Y.size"
   ]
  },
  {
   "cell_type": "markdown",
   "metadata": {},
   "source": [
    "ndarrays can only have elements with one data type. If you create one with different datatypes, it will convert them to be the same. This is called upcasting: the elements are converted so precision won't be lost."
   ]
  },
  {
   "cell_type": "code",
   "execution_count": 11,
   "metadata": {},
   "outputs": [
    {
     "name": "stdout",
     "output_type": "stream",
     "text": [
      "[1.  2.5 4. ] float64\n"
     ]
    }
   ],
   "source": [
    "x = np.array([1, 2.5, 4])\n",
    "# Converts integers to floats\n",
    "print(x, x.dtype)"
   ]
  },
  {
   "cell_type": "markdown",
   "metadata": {},
   "source": [
    "You could also specify the datatype you want:"
   ]
  },
  {
   "cell_type": "code",
   "execution_count": 12,
   "metadata": {},
   "outputs": [
    {
     "name": "stdout",
     "output_type": "stream",
     "text": [
      "[1 2 4] int64\n"
     ]
    }
   ],
   "source": [
    "x = np.array([1, 2.5, 4], dtype = np.int64)\n",
    "# Will converts everything to integers\n",
    "print(x, x.dtype)"
   ]
  },
  {
   "cell_type": "markdown",
   "metadata": {},
   "source": [
    "Choosing the datatype is useful if you don't want NumPy to accidently choose the wrong one, or if you don't need that much precision and want to save memory."
   ]
  },
  {
   "cell_type": "markdown",
   "metadata": {},
   "source": [
    "#### Save ndarrays into files\n",
    "\n",
    "This lets you save ndarrays for later use. \n"
   ]
  },
  {
   "cell_type": "code",
   "execution_count": 13,
   "metadata": {},
   "outputs": [
    {
     "name": "stdout",
     "output_type": "stream",
     "text": [
      "[1 2 3 4]\n"
     ]
    }
   ],
   "source": [
    "# Saving\n",
    "x = np.array([1, 2, 3, 4])\n",
    "np.save('my_array', x)\n",
    "\n",
    "# x will be saved into a file named my_array.npy (ends up in the same dir)\n",
    "\n",
    "# Loading\n",
    "# Make sure to include filename + npy\n",
    "y = np.load('my_array.npy')\n",
    "print(y)"
   ]
  },
  {
   "cell_type": "markdown",
   "metadata": {},
   "source": [
    "## Creating ndarrays with Built-in functions"
   ]
  },
  {
   "cell_type": "markdown",
   "metadata": {},
   "source": [
    "## np.zeros()"
   ]
  },
  {
   "cell_type": "code",
   "execution_count": 14,
   "metadata": {},
   "outputs": [
    {
     "name": "stdout",
     "output_type": "stream",
     "text": [
      "[[0. 0. 0. 0.]\n",
      " [0. 0. 0. 0.]\n",
      " [0. 0. 0. 0.]]\n"
     ]
    }
   ],
   "source": [
    "# Create an ndarray of zeros\n",
    "# Takes an argument of the shape of the nparray as a tuple\n",
    "# Default datatype is float64\n",
    "X = np.zeros((3, 4))\n",
    "print(X)"
   ]
  },
  {
   "cell_type": "markdown",
   "metadata": {},
   "source": [
    "## np.ones()"
   ]
  },
  {
   "cell_type": "code",
   "execution_count": 15,
   "metadata": {},
   "outputs": [
    {
     "name": "stdout",
     "output_type": "stream",
     "text": [
      "[[1. 1. 1. 1. 1.]\n",
      " [1. 1. 1. 1. 1.]\n",
      " [1. 1. 1. 1. 1.]\n",
      " [1. 1. 1. 1. 1.]]\n"
     ]
    }
   ],
   "source": [
    "# Create an ndarray of ones, similarly to zeros.\n",
    "# Takes an argument of the shape of the nparray as a tuple\n",
    "# Default datatype is float64\n",
    "X = np.ones((4, 5))\n",
    "print(X)"
   ]
  },
  {
   "cell_type": "markdown",
   "metadata": {},
   "source": [
    "## np.full()"
   ]
  },
  {
   "cell_type": "code",
   "execution_count": 16,
   "metadata": {},
   "outputs": [
    {
     "name": "stdout",
     "output_type": "stream",
     "text": [
      "[[5 5 5 5 5]\n",
      " [5 5 5 5 5]\n",
      " [5 5 5 5 5]\n",
      " [5 5 5 5 5]]\n"
     ]
    }
   ],
   "source": [
    "# Create an ndarray of any constant value\n",
    "# Takes in the shape and the constant value as args\n",
    "# Default datatype is the datatype of the given constant (here, int64)\n",
    "X = np.full((4, 5), 5)\n",
    "print(X)"
   ]
  },
  {
   "cell_type": "markdown",
   "metadata": {},
   "source": [
    "## np.eye()"
   ]
  },
  {
   "cell_type": "code",
   "execution_count": 17,
   "metadata": {},
   "outputs": [
    {
     "name": "stdout",
     "output_type": "stream",
     "text": [
      "[[1. 0. 0. 0. 0.]\n",
      " [0. 1. 0. 0. 0.]\n",
      " [0. 0. 1. 0. 0.]\n",
      " [0. 0. 0. 1. 0.]\n",
      " [0. 0. 0. 0. 1.]]\n"
     ]
    }
   ],
   "source": [
    "# Create an identity matrix\n",
    "# * All identity matrices are square, so only needs one arg\n",
    "# Default datatype is float64\n",
    "X = np.eye(5)\n",
    "print(X)"
   ]
  },
  {
   "cell_type": "markdown",
   "metadata": {},
   "source": [
    "## np.diag()"
   ]
  },
  {
   "cell_type": "code",
   "execution_count": 18,
   "metadata": {},
   "outputs": [
    {
     "name": "stdout",
     "output_type": "stream",
     "text": [
      "[[10  0  0  0]\n",
      " [ 0 20  0  0]\n",
      " [ 0  0 30  0]\n",
      " [ 0  0  0 40]]\n"
     ]
    }
   ],
   "source": [
    "# Create a diagonal matrix\n",
    "# Takes in a list of numbers to use as the main diagonal\n",
    "# and fills in the rest with zeros\n",
    "X = np.diag([10, 20, 30, 40])\n",
    "print(X)"
   ]
  },
  {
   "cell_type": "markdown",
   "metadata": {},
   "source": [
    "## np.arange()"
   ]
  },
  {
   "cell_type": "code",
   "execution_count": 19,
   "metadata": {},
   "outputs": [
    {
     "name": "stdout",
     "output_type": "stream",
     "text": [
      "[0 1 2 3 4 5 6 7 8 9]\n",
      "[4 5 6 7 8 9]\n",
      "[ 1  4  7 10 13]\n"
     ]
    }
   ],
   "source": [
    "# Create a 1-dimensional ndarray of evenly spaced values within a given step interval\n",
    "# arange(start, stop, step)\n",
    "# stop is exclusive\n",
    "\n",
    "# With 1 arg, used as stop. \n",
    "# Generates array from 0 to stop\n",
    "x = np.arange(10)\n",
    "print(x)\n",
    "\n",
    "# With 2 args, first is start, second is stop\n",
    "# start is inclusive stop is exclusive\n",
    "x = np.arange(4, 10)\n",
    "print(x)\n",
    "\n",
    "# With 3 args, third arg is the step\n",
    "# Goes from start to stop, evenly spaced by the step interval\n",
    "x = np.arange(1, 16, 3)\n",
    "print(x)"
   ]
  },
  {
   "cell_type": "markdown",
   "metadata": {},
   "source": [
    "## np.linspace()"
   ]
  },
  {
   "cell_type": "code",
   "execution_count": 20,
   "metadata": {},
   "outputs": [
    {
     "name": "stdout",
     "output_type": "stream",
     "text": [
      "[ 0.          2.77777778  5.55555556  8.33333333 11.11111111 13.88888889\n",
      " 16.66666667 19.44444444 22.22222222 25.        ]\n",
      "[ 0.   2.5  5.   7.5 10.  12.5 15.  17.5 20.  22.5]\n"
     ]
    }
   ],
   "source": [
    "# np.linspace(start, stop, n)\n",
    "# returns n evenly spaced numbers from start to stop\n",
    "# both start and stop are inclusive\n",
    "# Start, stop required, n defaults to 50\n",
    "x = np.linspace(0, 25, 10)\n",
    "print(x)\n",
    "\n",
    "# Set stop point to be exclusive\n",
    "x = np.linspace(0, 25, 10, endpoint=False)\n",
    "print(x)"
   ]
  },
  {
   "cell_type": "markdown",
   "metadata": {},
   "source": [
    "## np.reshape()\n",
    "\n",
    "Convert ndarrays into different shapes"
   ]
  },
  {
   "cell_type": "code",
   "execution_count": 21,
   "metadata": {},
   "outputs": [
    {
     "name": "stdout",
     "output_type": "stream",
     "text": [
      "[ 1  2  3  4  5  6  7  8  9 10 11 12 13 14 15 16 17 18 19 20] \n",
      "\n",
      "[[ 1  2  3  4  5]\n",
      " [ 6  7  8  9 10]\n",
      " [11 12 13 14 15]\n",
      " [16 17 18 19 20]] \n",
      "\n",
      "[[ 1  2]\n",
      " [ 3  4]\n",
      " [ 5  6]\n",
      " [ 7  8]\n",
      " [ 9 10]\n",
      " [11 12]\n",
      " [13 14]\n",
      " [15 16]\n",
      " [17 18]\n",
      " [19 20]]\n"
     ]
    }
   ],
   "source": [
    "# Convert a 1-dimensional array into a multi-dimensional array\n",
    "x = np.arange(1, 21)\n",
    "print(x, \"\\n\")\n",
    "\n",
    "# Takes in array to convert, and the shape you want to convert to\n",
    "# Shape needs to be compatible with the original array (same number of elements)\n",
    "X = np.reshape(x, (4, 5))\n",
    "print(X, \"\\n\")\n",
    "\n",
    "Y = np.reshape(X, (10, 2))\n",
    "print(Y)\n",
    "\n"
   ]
  },
  {
   "cell_type": "code",
   "execution_count": 22,
   "metadata": {},
   "outputs": [
    {
     "name": "stdout",
     "output_type": "stream",
     "text": [
      "[[ 0.  5.]\n",
      " [10. 15.]\n",
      " [20. 25.]\n",
      " [30. 35.]\n",
      " [40. 45.]]\n"
     ]
    }
   ],
   "source": [
    "# reshape() can be used as an ndarray method so you can write inline code\n",
    "X = np.linspace(0, 50, 10, endpoint=False).reshape(5, 2)\n",
    "print(X)"
   ]
  },
  {
   "cell_type": "markdown",
   "metadata": {},
   "source": [
    "## Create arrays with random numbers\n",
    "\n",
    "### np.random.random()"
   ]
  },
  {
   "cell_type": "code",
   "execution_count": 23,
   "metadata": {},
   "outputs": [
    {
     "name": "stdout",
     "output_type": "stream",
     "text": [
      "[[0.61749554 0.64381786 0.22377283]\n",
      " [0.8569913  0.34041235 0.08918336]\n",
      " [0.78101588 0.35953508 0.81126181]]\n"
     ]
    }
   ],
   "source": [
    "# Random ndarray of given shape, with values between 0 and 1\n",
    "# 0 is inclusive, 1 is exclusive\n",
    "X = np.random.random((3, 3))\n",
    "print(X)"
   ]
  },
  {
   "cell_type": "markdown",
   "metadata": {},
   "source": [
    "### np.random.randint()"
   ]
  },
  {
   "cell_type": "code",
   "execution_count": 24,
   "metadata": {},
   "outputs": [
    {
     "name": "stdout",
     "output_type": "stream",
     "text": [
      "[[13 13]\n",
      " [ 8  9]\n",
      " [14 14]]\n"
     ]
    }
   ],
   "source": [
    "# Create random array of integers between a specific range, in a given shape\n",
    "# random.randint(lower-bound, upper-bound, shape)\n",
    "# lower-bound is inclusive, upper-bound is exclusive\n",
    "X = np.random.randint(4, 15, (3, 2))\n",
    "print(X)\n"
   ]
  },
  {
   "cell_type": "markdown",
   "metadata": {},
   "source": [
    "### np.random.normal()\n",
    "\n",
    "Sometimes, you may need to create ndarrays with random numbers that satisfy certain statistical properties. For example, you may want the random numbers in the ndarray to have an average of 0.\n",
    "\n",
    "NumPy lets you create random ndarrays with numbers calculated from different probability distributions.\n",
    "\n",
    "The function `np.random.normal(mean, standard deviation, size=shape)` creates an ndarray with the given shape that contains random numbers picked from a `normal` (Gaussian) distribution with the given `mean` and `standard deviation`. "
   ]
  },
  {
   "cell_type": "code",
   "execution_count": 25,
   "metadata": {},
   "outputs": [
    {
     "name": "stdout",
     "output_type": "stream",
     "text": [
      "X has dimensions: (100, 100)\n",
      "X is an object of type: <class 'numpy.ndarray'>\n",
      "The elements in X are of type: float64\n",
      "The elements in X have a mean of: -0.0019445773230990493\n",
      "The maximum value in X is: 0.385260279128671\n",
      "The minimum value in X is: -0.4530296725210538\n",
      "X has 5025 negative numbers\n",
      "X has 4975 positive numbers\n"
     ]
    }
   ],
   "source": [
    "# Create ndarray that contains random numbers picked \n",
    "# from a normal distribution with a given mean and standard deviation\n",
    "# np.random.normal(mean, std-dev, size)\n",
    "X = np.random.normal(0, 0.1, size=(100, 100))\n",
    "\n",
    "# Print info about X\n",
    "print('X has dimensions:', X.shape)\n",
    "print('X is an object of type:', type(X))\n",
    "print('The elements in X are of type:', X.dtype)\n",
    "print('The elements in X have a mean of:', X.mean())\n",
    "print('The maximum value in X is:', X.max())\n",
    "print('The minimum value in X is:', X.min())\n",
    "print('X has', (X < 0).sum(), 'negative numbers')\n",
    "print('X has', (X > 0).sum(), 'positive numbers')"
   ]
  },
  {
   "cell_type": "markdown",
   "metadata": {},
   "source": [
    "Here, this ndarray has the average of the random numbers within the ndarray, which is close to zero. Both the maximum and minimum values in `X` are symmetric around zero (the average), and it has about the same amount of positive and negative numbers."
   ]
  },
  {
   "cell_type": "markdown",
   "metadata": {},
   "source": [
    "# Accessing, Deleting, and Inserting Elements into ndarrays\n",
    "\n",
    "ndarrays are mutable, so they can be changed after creation.\n",
    "They can be sliced and split in different ways, so you can also get a subset of an ndarray. For machine learning, you can use slicing to separate data, e.g. into training, cross validation, and testing sets."
   ]
  },
  {
   "cell_type": "markdown",
   "metadata": {},
   "source": [
    "## Accessing/modifying rank 1 ndarrays"
   ]
  },
  {
   "cell_type": "code",
   "execution_count": 26,
   "metadata": {},
   "outputs": [
    {
     "name": "stdout",
     "output_type": "stream",
     "text": [
      "[1 2 3 4 5]\n",
      "1\n",
      "2\n",
      "5\n"
     ]
    }
   ],
   "source": [
    "x = np.array([1, 2, 3, 4, 5])\n",
    "print(x)\n",
    "\n",
    "# use [] to access indices\n",
    "print(x[0]) # first index\n",
    "print(x[1])\n",
    "print(x[-1]) # last index\n"
   ]
  },
  {
   "cell_type": "code",
   "execution_count": 27,
   "metadata": {},
   "outputs": [
    {
     "name": "stdout",
     "output_type": "stream",
     "text": [
      "[1 2 3 4 5]\n",
      "[20  2  3  4  5]\n"
     ]
    }
   ],
   "source": [
    "x = np.array([1, 2, 3, 4, 5])\n",
    "print(x)\n",
    "\n",
    "# use [] = to modify a specific index\n",
    "x[0] = 20\n",
    "print(x)"
   ]
  },
  {
   "cell_type": "markdown",
   "metadata": {},
   "source": [
    "## Accessing/modifying rank 2 ndarrays\n",
    "\n",
    "Need to provide to indices:\n",
    "Use `[row, column]` to access"
   ]
  },
  {
   "cell_type": "code",
   "execution_count": 28,
   "metadata": {},
   "outputs": [
    {
     "name": "stdout",
     "output_type": "stream",
     "text": [
      "[[1 2 3]\n",
      " [4 5 6]\n",
      " [7 8 9]]\n",
      "1\n",
      "5\n",
      "9\n"
     ]
    }
   ],
   "source": [
    "X = np.array([[1,2,3],[4,5,6],[7,8,9]])\n",
    "print(X)\n",
    "\n",
    "print(X[0, 0]) # first\n",
    "print(X[1, 1]) # middle\n",
    "print(X[2, 2]) # last"
   ]
  },
  {
   "cell_type": "code",
   "execution_count": 29,
   "metadata": {},
   "outputs": [
    {
     "name": "stdout",
     "output_type": "stream",
     "text": [
      "[[1 2 3]\n",
      " [4 5 6]\n",
      " [7 8 9]] \n",
      "\n",
      "[[ 1  2  3]\n",
      " [ 4 99  6]\n",
      " [ 7  8 99]]\n"
     ]
    }
   ],
   "source": [
    "X = np.array([[1,2,3],[4,5,6],[7,8,9]])\n",
    "print(X, \"\\n\")\n",
    "\n",
    "# modify with [i, i] = \n",
    "X[1, 1] = 99\n",
    "X[2, 2] = 99\n",
    "print(X)"
   ]
  },
  {
   "cell_type": "markdown",
   "metadata": {},
   "source": [
    "## Deleting from ndarrays\n",
    "\n",
    "`np.delete(ndarray, elements, axis)`\n",
    "For rank 1 ndarrays the `axis` keyword is not required. For rank 2 ndarrays, `axis = 0` is used to select rows, and `axis = 1` is used to select columns."
   ]
  },
  {
   "cell_type": "code",
   "execution_count": 30,
   "metadata": {},
   "outputs": [
    {
     "name": "stdout",
     "output_type": "stream",
     "text": [
      "[1 2 3 4 5]\n",
      "[2 3 4]\n"
     ]
    }
   ],
   "source": [
    "# rank 1 \n",
    "x = np.array([1, 2, 3, 4, 5])\n",
    "print(x)\n",
    "\n",
    "# delete first and last element\n",
    "x = np.delete(x, [0, 4]) \n",
    "\n",
    "print(x)"
   ]
  },
  {
   "cell_type": "code",
   "execution_count": 31,
   "metadata": {},
   "outputs": [
    {
     "name": "stdout",
     "output_type": "stream",
     "text": [
      "[[1 2 3]\n",
      " [4 5 6]\n",
      " [7 8 9]]\n"
     ]
    }
   ],
   "source": [
    "# rank 2\n",
    "Y = np.array([[1,2,3],[4,5,6],[7,8,9]])\n",
    "print(Y)"
   ]
  },
  {
   "cell_type": "code",
   "execution_count": 32,
   "metadata": {},
   "outputs": [
    {
     "name": "stdout",
     "output_type": "stream",
     "text": [
      "[[4 5 6]\n",
      " [7 8 9]]\n"
     ]
    }
   ],
   "source": [
    "# delete first row\n",
    "W = np.delete(Y, 0, axis=0)\n",
    "print(W)"
   ]
  },
  {
   "cell_type": "code",
   "execution_count": 33,
   "metadata": {},
   "outputs": [
    {
     "name": "stdout",
     "output_type": "stream",
     "text": [
      "[[2]\n",
      " [5]\n",
      " [8]]\n"
     ]
    }
   ],
   "source": [
    "# delete first and last column\n",
    "v = np.delete(Y, [0, 2], axis=1)\n",
    "print(v)"
   ]
  },
  {
   "cell_type": "markdown",
   "metadata": {},
   "source": [
    "## Appending values\n",
    "\n",
    "Append values to ndarrays using the `np.append(ndarray, elements, axis)` function. This appends the given list of `elements` to `ndarray` along the specified `axis`. "
   ]
  },
  {
   "cell_type": "markdown",
   "metadata": {},
   "source": [
    "Note that when appending to rank 2 arrays, the shape must match, or you will get an error!"
   ]
  },
  {
   "cell_type": "code",
   "execution_count": 34,
   "metadata": {},
   "outputs": [
    {
     "name": "stdout",
     "output_type": "stream",
     "text": [
      "[1 2 3 4 5]\n",
      "[1 2 3 4 5 6]\n",
      "[1 2 3 4 5 6 7 8]\n"
     ]
    }
   ],
   "source": [
    "# rank 1 ndarray\n",
    "x = np.array([1, 2, 3, 4, 5])\n",
    "print(x)\n",
    "\n",
    "# does not need axis arg\n",
    "# one element\n",
    "x = np.append(x, 6)\n",
    "print(x)\n",
    "\n",
    "# multiple elements\n",
    "x = np.append(x, [7,8])\n",
    "print(x)"
   ]
  },
  {
   "cell_type": "code",
   "execution_count": 35,
   "metadata": {},
   "outputs": [
    {
     "name": "stdout",
     "output_type": "stream",
     "text": [
      "[[1 2 3]\n",
      " [4 5 6]]\n"
     ]
    }
   ],
   "source": [
    "# rank 2 ndarray\n",
    "Y = np.array([[1,2,3],[4,5,6]])\n",
    "print(Y)"
   ]
  },
  {
   "cell_type": "code",
   "execution_count": 36,
   "metadata": {},
   "outputs": [
    {
     "name": "stdout",
     "output_type": "stream",
     "text": [
      "[[1 2 3]\n",
      " [4 5 6]\n",
      " [7 8 9]]\n"
     ]
    }
   ],
   "source": [
    "# Append row\n",
    "V = np.append(Y, [[7, 8, 9]], axis=0)\n",
    "print(V)"
   ]
  },
  {
   "cell_type": "code",
   "execution_count": 37,
   "metadata": {},
   "outputs": [
    {
     "name": "stdout",
     "output_type": "stream",
     "text": [
      "[[ 1  2  3  9]\n",
      " [ 4  5  6 10]]\n"
     ]
    }
   ],
   "source": [
    "# Append column\n",
    "Q = np.append(Y, [[9], [10]], axis=1)\n",
    "print(Q)"
   ]
  },
  {
   "cell_type": "markdown",
   "metadata": {},
   "source": [
    "## Inserting values\n",
    "\n",
    "Insert values to ndarrays using the `np.insert(ndarray, index, elements, axis)` function. This inserts the given list of `elements` to `ndarray` right before the given `index` along the specified `axis`. "
   ]
  },
  {
   "cell_type": "code",
   "execution_count": 38,
   "metadata": {},
   "outputs": [
    {
     "name": "stdout",
     "output_type": "stream",
     "text": [
      "[1 2 5 6 7]\n",
      "[1 2 3 4 5 6 7]\n"
     ]
    }
   ],
   "source": [
    "# rank 1 ndarray\n",
    "x = np.array([1, 2, 5, 6, 7])\n",
    "print(x)\n",
    "\n",
    "# insert 3, 4 just before the 3rd element (index = 2)\n",
    "x = np.insert(x, 2, [3, 4])\n",
    "print(x)"
   ]
  },
  {
   "cell_type": "code",
   "execution_count": 39,
   "metadata": {},
   "outputs": [
    {
     "name": "stdout",
     "output_type": "stream",
     "text": [
      "[[1 2 3]\n",
      " [7 8 9]]\n"
     ]
    }
   ],
   "source": [
    "# rank 2 ndarray\n",
    "Y = np.array([[1,2,3],[7,8,9]])\n",
    "print(Y)"
   ]
  },
  {
   "cell_type": "code",
   "execution_count": 40,
   "metadata": {},
   "outputs": [
    {
     "name": "stdout",
     "output_type": "stream",
     "text": [
      "[[1 2 3]\n",
      " [4 5 6]\n",
      " [7 8 9]]\n"
     ]
    }
   ],
   "source": [
    "# insert row between first and last (index 1) row\n",
    "W = np.insert(Y, 1, [4, 5, 6], axis=0)\n",
    "print(W)"
   ]
  },
  {
   "cell_type": "code",
   "execution_count": 41,
   "metadata": {},
   "outputs": [
    {
     "name": "stdout",
     "output_type": "stream",
     "text": [
      "[[1 5 2 3]\n",
      " [7 5 8 9]]\n"
     ]
    }
   ],
   "source": [
    "# insert column full of 5s between first and second column\n",
    "V = np.insert(Y, 1, 5, axis=1)\n",
    "print(V)"
   ]
  },
  {
   "cell_type": "code",
   "execution_count": 42,
   "metadata": {},
   "outputs": [
    {
     "name": "stdout",
     "output_type": "stream",
     "text": [
      "[[1 0 2 3]\n",
      " [7 9 8 9]]\n"
     ]
    }
   ],
   "source": [
    "# insert column [0, 9] between first and second column\n",
    "U = np.insert(Y, 1, [0,9], axis=1)\n",
    "print(U)"
   ]
  },
  {
   "cell_type": "markdown",
   "metadata": {},
   "source": [
    "## Stacking\n",
    "\n",
    "You can stack ndarrays on top of each other or side by side.\n",
    "\n",
    "- `np.vstack()` for vertical stacking\n",
    "- `np.hstack()` for horizontal stacking\n",
    "\n",
    "__The shapes must match__"
   ]
  },
  {
   "cell_type": "code",
   "execution_count": 43,
   "metadata": {},
   "outputs": [
    {
     "name": "stdout",
     "output_type": "stream",
     "text": [
      "[1 2]\n"
     ]
    }
   ],
   "source": [
    "# rank 1 ndarray \n",
    "x = np.array([1,2])\n",
    "print(x)"
   ]
  },
  {
   "cell_type": "code",
   "execution_count": 44,
   "metadata": {},
   "outputs": [
    {
     "name": "stdout",
     "output_type": "stream",
     "text": [
      "[[3 4]\n",
      " [5 6]]\n"
     ]
    }
   ],
   "source": [
    "# rank 2 ndarray \n",
    "Y = np.array([[3,4],[5,6]])\n",
    "print(Y)"
   ]
  },
  {
   "cell_type": "code",
   "execution_count": 45,
   "metadata": {},
   "outputs": [
    {
     "name": "stdout",
     "output_type": "stream",
     "text": [
      "[[1 2]\n",
      " [3 4]\n",
      " [5 6]]\n"
     ]
    }
   ],
   "source": [
    "# Stack x on Y\n",
    "V = np.vstack((x, Y))\n",
    "print(V)"
   ]
  },
  {
   "cell_type": "code",
   "execution_count": 46,
   "metadata": {},
   "outputs": [
    {
     "name": "stdout",
     "output_type": "stream",
     "text": [
      "[[3 4 1]\n",
      " [5 6 2]]\n"
     ]
    }
   ],
   "source": [
    "# stack x on the right of Y. \n",
    "# reshape x in order to stack it on the right of Y.\n",
    "W = np.hstack((Y, x.reshape(2, 1)))\n",
    "print(W)"
   ]
  },
  {
   "cell_type": "markdown",
   "metadata": {},
   "source": [
    "## Slicing\n",
    "\n",
    "For accessing subsets of ndarrays. Slicing is performed by combining indices with `:` inside `[]`.\n",
    "\n",
    "- `ndarray[start:end]` (between given start and end)\n",
    "- `ndarray[start:]` (given start all the way to end)\n",
    "- `ndarray[:end]` (start to given end)\n",
    "\n",
    "__start is inclusive, end is exclusive__\n",
    "\n",
    "Since ndarrays can be multidimensional, when doing slicing, you usually have to specify a slice for each dimension of the array."
   ]
  },
  {
   "cell_type": "code",
   "execution_count": 47,
   "metadata": {},
   "outputs": [
    {
     "name": "stdout",
     "output_type": "stream",
     "text": [
      "[[ 0  1  2  3  4]\n",
      " [ 5  6  7  8  9]\n",
      " [10 11 12 13 14]\n",
      " [15 16 17 18 19]]\n"
     ]
    }
   ],
   "source": [
    "# 4 x 5 ndarray that contains integers from 0 to 19\n",
    "X = np.arange(20).reshape(4, 5)\n",
    "print(X)"
   ]
  },
  {
   "cell_type": "code",
   "execution_count": 48,
   "metadata": {},
   "outputs": [
    {
     "name": "stdout",
     "output_type": "stream",
     "text": [
      "[[ 7  8  9]\n",
      " [12 13 14]\n",
      " [17 18 19]]\n"
     ]
    }
   ],
   "source": [
    "# Elements in 2nd to 4th rows, and 3rd to 5th columns\n",
    "Z = X[1:4, 2:5]\n",
    "print(Z)"
   ]
  },
  {
   "cell_type": "code",
   "execution_count": 49,
   "metadata": {},
   "outputs": [
    {
     "name": "stdout",
     "output_type": "stream",
     "text": [
      "[[ 7  8  9]\n",
      " [12 13 14]\n",
      " [17 18 19]]\n"
     ]
    }
   ],
   "source": [
    "# Can also be written as\n",
    "W = X[1:, 2:5]\n",
    "print(W)"
   ]
  },
  {
   "cell_type": "code",
   "execution_count": 50,
   "metadata": {},
   "outputs": [
    {
     "name": "stdout",
     "output_type": "stream",
     "text": [
      "[[ 2  3  4]\n",
      " [ 7  8  9]\n",
      " [12 13 14]]\n"
     ]
    }
   ],
   "source": [
    "# Elements first to 3rd rows, 2nd to 4th colums\n",
    "Y = X[:3, 2:5]\n",
    "print(Y)"
   ]
  },
  {
   "cell_type": "code",
   "execution_count": 51,
   "metadata": {},
   "outputs": [
    {
     "name": "stdout",
     "output_type": "stream",
     "text": [
      "[10 11 12 13 14]\n"
     ]
    }
   ],
   "source": [
    "# All elements in 3rd row\n",
    "v = X[2, :]\n",
    "print(v)"
   ]
  },
  {
   "cell_type": "code",
   "execution_count": 52,
   "metadata": {},
   "outputs": [
    {
     "name": "stdout",
     "output_type": "stream",
     "text": [
      "[ 2  7 12 17]\n"
     ]
    }
   ],
   "source": [
    "# All elements in 3rd column\n",
    "q = X[:, 2]\n",
    "print(q)"
   ]
  },
  {
   "cell_type": "code",
   "execution_count": 53,
   "metadata": {},
   "outputs": [
    {
     "name": "stdout",
     "output_type": "stream",
     "text": [
      "[[ 2]\n",
      " [ 7]\n",
      " [12]\n",
      " [17]]\n"
     ]
    }
   ],
   "source": [
    "# All elements in 3rd column, as a rank 2 array\n",
    "R = X[:, 2:3]\n",
    "print(R)"
   ]
  },
  {
   "cell_type": "markdown",
   "metadata": {},
   "source": [
    "Note that when slicing ndarrays and saving them into new variables, the data is not copied into the new variable.\n",
    "\n",
    "Rather, the new variable is just a different \"view\" of the same ndarray. So, if you make changes to the new variable, it will change the original as well."
   ]
  },
  {
   "cell_type": "code",
   "execution_count": 54,
   "metadata": {},
   "outputs": [
    {
     "name": "stdout",
     "output_type": "stream",
     "text": [
      "[[ 0  1  2  3  4]\n",
      " [ 5  6  7  8  9]\n",
      " [10 11 12 13 14]\n",
      " [15 16 17 18 19]]\n"
     ]
    }
   ],
   "source": [
    "# 4 x 5 ndarray that contains integers from 0 to 19\n",
    "X = np.arange(20).reshape(4, 5)\n",
    "print(X)"
   ]
  },
  {
   "cell_type": "code",
   "execution_count": 55,
   "metadata": {},
   "outputs": [
    {
     "name": "stdout",
     "output_type": "stream",
     "text": [
      "[[ 7  8  9]\n",
      " [12 13 14]\n",
      " [17 18 19]]\n"
     ]
    }
   ],
   "source": [
    "# Make a slice\n",
    "Z = X[1:4,2:5]\n",
    "print(Z)"
   ]
  },
  {
   "cell_type": "code",
   "execution_count": 56,
   "metadata": {},
   "outputs": [
    {
     "name": "stdout",
     "output_type": "stream",
     "text": [
      "[[  7   8   9]\n",
      " [ 12  13  14]\n",
      " [ 17  18 555]]\n"
     ]
    }
   ],
   "source": [
    "# Change Z in some way\n",
    "Z[2, 2] = 555\n",
    "print(Z)"
   ]
  },
  {
   "cell_type": "code",
   "execution_count": 57,
   "metadata": {},
   "outputs": [
    {
     "name": "stdout",
     "output_type": "stream",
     "text": [
      "[[  0   1   2   3   4]\n",
      " [  5   6   7   8   9]\n",
      " [ 10  11  12  13  14]\n",
      " [ 15  16  17  18 555]]\n"
     ]
    }
   ],
   "source": [
    "# X also got changed!\n",
    "print(X)"
   ]
  },
  {
   "cell_type": "markdown",
   "metadata": {},
   "source": [
    "## Copying\n",
    "\n",
    "To create ndarrays that contain copies of the values in the slice, use `np.copy(ndarray)`. This function can also be used as a method, in which case you don't need to provide the ndarray as an arg."
   ]
  },
  {
   "cell_type": "code",
   "execution_count": 58,
   "metadata": {},
   "outputs": [
    {
     "name": "stdout",
     "output_type": "stream",
     "text": [
      "[[ 0  1  2  3  4]\n",
      " [ 5  6  7  8  9]\n",
      " [10 11 12 13 14]\n",
      " [15 16 17 18 19]]\n"
     ]
    }
   ],
   "source": [
    "# 4 x 5 ndarray that contains integers from 0 to 19\n",
    "X = np.arange(20).reshape(4, 5)\n",
    "print(X)"
   ]
  },
  {
   "cell_type": "code",
   "execution_count": 59,
   "metadata": {},
   "outputs": [
    {
     "name": "stdout",
     "output_type": "stream",
     "text": [
      "[[ 7  8  9]\n",
      " [12 13 14]\n",
      " [17 18 19]]\n"
     ]
    }
   ],
   "source": [
    "# Make a slice that's a copy\n",
    "Z = np.copy(X[1:4,2:5])\n",
    "print(Z)"
   ]
  },
  {
   "cell_type": "code",
   "execution_count": 60,
   "metadata": {},
   "outputs": [
    {
     "name": "stdout",
     "output_type": "stream",
     "text": [
      "[[ 7  8  9]\n",
      " [12 13 14]\n",
      " [17 18 19]]\n"
     ]
    }
   ],
   "source": [
    "# OR\n",
    "W = X[1:4,2:5].copy()\n",
    "print(W)"
   ]
  },
  {
   "cell_type": "code",
   "execution_count": 61,
   "metadata": {},
   "outputs": [
    {
     "name": "stdout",
     "output_type": "stream",
     "text": [
      "[[  7   8   9]\n",
      " [ 12  13  14]\n",
      " [ 17  18 555]] \n",
      "\n",
      "[[  7   8   9]\n",
      " [ 12  13  14]\n",
      " [ 17  18 444]]\n"
     ]
    }
   ],
   "source": [
    "# Change Z and W\n",
    "Z[2, 2] = 555\n",
    "W[2, 2] = 444\n",
    "print(Z, \"\\n\")\n",
    "print(W)"
   ]
  },
  {
   "cell_type": "code",
   "execution_count": 62,
   "metadata": {},
   "outputs": [
    {
     "name": "stdout",
     "output_type": "stream",
     "text": [
      "[[ 0  1  2  3  4]\n",
      " [ 5  6  7  8  9]\n",
      " [10 11 12 13 14]\n",
      " [15 16 17 18 19]]\n"
     ]
    }
   ],
   "source": [
    "# Original is same\n",
    "print(X)"
   ]
  },
  {
   "cell_type": "markdown",
   "metadata": {},
   "source": [
    "### Using one ndarray to make slices, select, or change elements in another ndarray"
   ]
  },
  {
   "cell_type": "code",
   "execution_count": 63,
   "metadata": {},
   "outputs": [
    {
     "name": "stdout",
     "output_type": "stream",
     "text": [
      "[[ 0  1  2  3  4]\n",
      " [ 5  6  7  8  9]\n",
      " [10 11 12 13 14]\n",
      " [15 16 17 18 19]] \n",
      "\n",
      "[1 3]\n"
     ]
    }
   ],
   "source": [
    "# 4 x 5 ndarray that contains integers from 0 to 19\n",
    "X = np.arange(20).reshape(4, 5)\n",
    "\n",
    "# Create a rank 1 ndarray to serve as indices to select elements from X\n",
    "indices = np.array([1,3])\n",
    "\n",
    "print(X, \"\\n\")\n",
    "print(indices)"
   ]
  },
  {
   "cell_type": "code",
   "execution_count": 64,
   "metadata": {},
   "outputs": [
    {
     "name": "stdout",
     "output_type": "stream",
     "text": [
      "[[ 5  6  7  8  9]\n",
      " [15 16 17 18 19]]\n"
     ]
    }
   ],
   "source": [
    "# Use the indices ndarray to select the 2nd and 4th row of X\n",
    "Y = X[indices,:]\n",
    "print(Y)"
   ]
  },
  {
   "cell_type": "code",
   "execution_count": 65,
   "metadata": {},
   "outputs": [
    {
     "name": "stdout",
     "output_type": "stream",
     "text": [
      "[[ 1  3]\n",
      " [ 6  8]\n",
      " [11 13]\n",
      " [16 18]]\n"
     ]
    }
   ],
   "source": [
    "# Use indices to select 2nd and 4th columns of X\n",
    "Z = X[:, indices]\n",
    "print(Z)"
   ]
  },
  {
   "cell_type": "markdown",
   "metadata": {},
   "source": [
    "## Selecting diagonals\n",
    "\n",
    "NumPy has built-in functions to select specific elements within ndarrays. For example, the `np.diag(ndarray, k=N)` function gives you the elements along the `diagonal` defined by `N`. The default is `k=0`, which is the main diagonal. Values of `k > 0` are used to select elements in diagonals above the main diagonal, and values of `k < 0` are used to select elements in diagonals below the main diagonal."
   ]
  },
  {
   "cell_type": "code",
   "execution_count": 66,
   "metadata": {},
   "outputs": [
    {
     "name": "stdout",
     "output_type": "stream",
     "text": [
      "[[ 0  1  2  3  4]\n",
      " [ 5  6  7  8  9]\n",
      " [10 11 12 13 14]\n",
      " [15 16 17 18 19]\n",
      " [20 21 22 23 24]]\n"
     ]
    }
   ],
   "source": [
    "# 5 x 5 ndarray that contains integers from 0 to 24\n",
    "X = np.arange(25).reshape(5, 5)\n",
    "print(X)"
   ]
  },
  {
   "cell_type": "code",
   "execution_count": 67,
   "metadata": {},
   "outputs": [
    {
     "name": "stdout",
     "output_type": "stream",
     "text": [
      "[ 0  6 12 18 24]\n"
     ]
    }
   ],
   "source": [
    "# main diagonal\n",
    "z = np.diag(X)\n",
    "print(z)"
   ]
  },
  {
   "cell_type": "code",
   "execution_count": 68,
   "metadata": {},
   "outputs": [
    {
     "name": "stdout",
     "output_type": "stream",
     "text": [
      "[ 1  7 13 19]\n"
     ]
    }
   ],
   "source": [
    "# diagaonal above main diagonal\n",
    "y = np.diag(X, k=1)\n",
    "print(y)"
   ]
  },
  {
   "cell_type": "code",
   "execution_count": 69,
   "metadata": {},
   "outputs": [
    {
     "name": "stdout",
     "output_type": "stream",
     "text": [
      "[ 5 11 17 23]\n"
     ]
    }
   ],
   "source": [
    "# diagaonal below main diagonal\n",
    "w = np.diag(X, k=-1)\n",
    "print(w)"
   ]
  },
  {
   "cell_type": "markdown",
   "metadata": {},
   "source": [
    "### Unique elements\n",
    "\n",
    "Get unique values in an ndarray with `np.unique()`"
   ]
  },
  {
   "cell_type": "code",
   "execution_count": 70,
   "metadata": {},
   "outputs": [
    {
     "name": "stdout",
     "output_type": "stream",
     "text": [
      "[[1 2 3]\n",
      " [5 2 8]\n",
      " [1 2 3]]\n"
     ]
    }
   ],
   "source": [
    "# 3 x 3 ndarray with repeated values\n",
    "X = np.array([[1,2,3],[5,2,8],[1,2,3]])\n",
    "print(X)\n"
   ]
  },
  {
   "cell_type": "code",
   "execution_count": 71,
   "metadata": {},
   "outputs": [
    {
     "name": "stdout",
     "output_type": "stream",
     "text": [
      "[1 2 3 5 8]\n"
     ]
    }
   ],
   "source": [
    "# Get unique values\n",
    "y = np.unique(X)\n",
    "print(y)"
   ]
  },
  {
   "cell_type": "markdown",
   "metadata": {},
   "source": [
    "## Boolean Indexing\n",
    "\n",
    "Boolean indexing can be used when you don't know the indices of the elements you want to select or when you you want to select element based on certain conditions, e.g., selecting only values that are less than 20. Boolean indexing lets you select elements using logical arguments instead of explicit indices."
   ]
  },
  {
   "cell_type": "code",
   "execution_count": 72,
   "metadata": {},
   "outputs": [
    {
     "name": "stdout",
     "output_type": "stream",
     "text": [
      "[[ 0  1  2  3  4]\n",
      " [ 5  6  7  8  9]\n",
      " [10 11 12 13 14]\n",
      " [15 16 17 18 19]\n",
      " [20 21 22 23 24]]\n"
     ]
    }
   ],
   "source": [
    "# 5 x 5 ndarray that contains integers from 0 to 24\n",
    "X = np.arange(25).reshape(5, 5)\n",
    "print(X)"
   ]
  },
  {
   "cell_type": "code",
   "execution_count": 73,
   "metadata": {},
   "outputs": [
    {
     "name": "stdout",
     "output_type": "stream",
     "text": [
      "[11 12 13 14 15 16 17 18 19 20 21 22 23 24]\n",
      "[0 1 2 3 4 5 6 7]\n",
      "[11 12 13 14 15 16]\n"
     ]
    }
   ],
   "source": [
    "# Get elements greater that 10\n",
    "y = X[X > 10]\n",
    "print(y)\n",
    "\n",
    "# <= 7\n",
    "y = X[X <= 7]\n",
    "print(y)\n",
    "\n",
    "\n",
    "# between 10 and 17\n",
    "y = X[(X > 10) & (X < 17)]\n",
    "print(y)"
   ]
  },
  {
   "cell_type": "code",
   "execution_count": 74,
   "metadata": {},
   "outputs": [
    {
     "name": "stdout",
     "output_type": "stream",
     "text": [
      "[[ 0  1  2  3  4]\n",
      " [ 5  6  7  8  9]\n",
      " [10 -1 -1 -1 -1]\n",
      " [-1 -1 17 18 19]\n",
      " [20 21 22 23 24]]\n"
     ]
    }
   ],
   "source": [
    "# Use boolean indexing to assign\n",
    "X[(X > 10) & (X < 17)] = -1\n",
    "print(X)"
   ]
  },
  {
   "cell_type": "markdown",
   "metadata": {},
   "source": [
    "## Set operations\n",
    "\n",
    "Use to compare two ndarrays, like finding common elements and different elements. Can also be using to join via union.\n"
   ]
  },
  {
   "cell_type": "code",
   "execution_count": 75,
   "metadata": {},
   "outputs": [
    {
     "name": "stdout",
     "output_type": "stream",
     "text": [
      "[1 2 3 4 5]\n",
      "[6 7 2 8 4]\n"
     ]
    }
   ],
   "source": [
    "# rank 1 ndarray\n",
    "x = np.array([1,2,3,4,5])\n",
    "print(x)\n",
    "\n",
    "# rank 1 ndarray\n",
    "y = np.array([6,7,2,8,4])\n",
    "print(y)"
   ]
  },
  {
   "cell_type": "markdown",
   "metadata": {},
   "source": [
    "### np.intersect1d()"
   ]
  },
  {
   "cell_type": "code",
   "execution_count": 76,
   "metadata": {},
   "outputs": [
    {
     "name": "stdout",
     "output_type": "stream",
     "text": [
      "[2 4]\n"
     ]
    }
   ],
   "source": [
    "# Get elements both in x and y\n",
    "z = np.intersect1d(x, y)\n",
    "print(z)"
   ]
  },
  {
   "cell_type": "markdown",
   "metadata": {},
   "source": [
    "### np.setdiff1d()"
   ]
  },
  {
   "cell_type": "code",
   "execution_count": 77,
   "metadata": {},
   "outputs": [
    {
     "name": "stdout",
     "output_type": "stream",
     "text": [
      "[1 3 5]\n"
     ]
    }
   ],
   "source": [
    "# Get elements that are in x but no in y\n",
    "z = np.setdiff1d(x, y)\n",
    "print(z)"
   ]
  },
  {
   "cell_type": "markdown",
   "metadata": {},
   "source": [
    "### np.union1d()"
   ]
  },
  {
   "cell_type": "code",
   "execution_count": 78,
   "metadata": {},
   "outputs": [
    {
     "name": "stdout",
     "output_type": "stream",
     "text": [
      "[1 2 3 4 5 6 7 8]\n"
     ]
    }
   ],
   "source": [
    "# All (unique) elements of x and y\n",
    "z = np.union1d(x, y)\n",
    "print(z)"
   ]
  },
  {
   "cell_type": "markdown",
   "metadata": {},
   "source": [
    "## Sorting\n",
    "\n",
    "ndarrays can be sorted in NumPy using `np.sort()`. Note that this function sorts rank 1 and rank 2 ndarrays in different ways! \n",
    "\n",
    "The sort function can also be used as a method, but there is a big difference on how the data is stored in memory in this case. When `np.sort()` is used as a function, it sorts the ndrrays out of place without changing the original ndarray. BUT, when you use `.sort()` as a method (`ndarray.sort()`), it sorts the ndarray in place, so the original is changed. \n",
    "\n",
    "### Sorting rank 1 ndarrays"
   ]
  },
  {
   "cell_type": "code",
   "execution_count": 79,
   "metadata": {},
   "outputs": [
    {
     "name": "stdout",
     "output_type": "stream",
     "text": [
      "[1 3 3 1 9 9 5 4 3 7]\n"
     ]
    }
   ],
   "source": [
    "# unsorted rank 1 ndarray\n",
    "x = np.random.randint(1,11,size=(10,))\n",
    "print(x)"
   ]
  },
  {
   "cell_type": "code",
   "execution_count": 80,
   "metadata": {},
   "outputs": [
    {
     "name": "stdout",
     "output_type": "stream",
     "text": [
      "[1 1 3 3 3 4 5 7 9 9]\n",
      "[1 3 3 1 9 9 5 4 3 7]\n"
     ]
    }
   ],
   "source": [
    "# Non-mutating sort\n",
    "y = np.sort(x)\n",
    "print(y)\n",
    "print(x)"
   ]
  },
  {
   "cell_type": "code",
   "execution_count": 81,
   "metadata": {},
   "outputs": [
    {
     "name": "stdout",
     "output_type": "stream",
     "text": [
      "[1 1 3 3 3 4 5 7 9 9]\n"
     ]
    }
   ],
   "source": [
    "# Mutating sort\n",
    "x.sort()\n",
    "print(x)"
   ]
  },
  {
   "cell_type": "code",
   "execution_count": 82,
   "metadata": {},
   "outputs": [
    {
     "name": "stdout",
     "output_type": "stream",
     "text": [
      "[ 1  9  5 10  7  9  6 10  6  2]\n",
      "[ 1  2  5  6  7  9 10]\n"
     ]
    }
   ],
   "source": [
    "# Sort and get only unique values by combing with np.unique()\n",
    "x = np.random.randint(1,11,size=(10,))\n",
    "print(x)\n",
    "\n",
    "y = np.sort(np.unique(x))\n",
    "print(y)"
   ]
  },
  {
   "cell_type": "markdown",
   "metadata": {},
   "source": [
    "### Sorting rank 2 ndarrays\n",
    "\n",
    "When sorting rank 2 ndarrays, you need to specify whether you want to sort rows or columns using the `axis` keyword. For columns, `axis = 0`, for rows `axis = 1`"
   ]
  },
  {
   "cell_type": "code",
   "execution_count": 83,
   "metadata": {},
   "outputs": [
    {
     "name": "stdout",
     "output_type": "stream",
     "text": [
      "[[ 4  5  7  7  8]\n",
      " [ 1 10  5  9  6]\n",
      " [ 6  5 10  6  6]\n",
      " [ 4  9  1  9  8]\n",
      " [ 8  2  2  1  1]]\n"
     ]
    }
   ],
   "source": [
    "# unsorted rank 2 ndarray\n",
    "X = np.random.randint(1,11,size=(5,5))\n",
    "print(X)"
   ]
  },
  {
   "cell_type": "code",
   "execution_count": 84,
   "metadata": {},
   "outputs": [
    {
     "name": "stdout",
     "output_type": "stream",
     "text": [
      "[[ 1  2  1  1  1]\n",
      " [ 4  5  2  6  6]\n",
      " [ 4  5  5  7  6]\n",
      " [ 6  9  7  9  8]\n",
      " [ 8 10 10  9  8]]\n"
     ]
    }
   ],
   "source": [
    "# Sort by columns\n",
    "Y = np.sort(X, axis=0)\n",
    "print(Y)"
   ]
  },
  {
   "cell_type": "code",
   "execution_count": 85,
   "metadata": {},
   "outputs": [
    {
     "name": "stdout",
     "output_type": "stream",
     "text": [
      "[[ 4  5  7  7  8]\n",
      " [ 1  5  6  9 10]\n",
      " [ 5  6  6  6 10]\n",
      " [ 1  4  8  9  9]\n",
      " [ 1  1  2  2  8]]\n"
     ]
    }
   ],
   "source": [
    "# Sort by rows\n",
    "W = np.sort(X, axis=1)\n",
    "print(W)"
   ]
  },
  {
   "cell_type": "markdown",
   "metadata": {},
   "source": [
    "# Arithmetic operations and Broadcasting\n",
    "\n",
    "NumPy lets you do both element-wise operations and matrix operations on ndarrays. \n",
    "\n",
    "In order to do element-wise operations, NumPy sometimes uses \"broadcasting\". Broadcasting is how NumPy handles element-wise arithmetic operations with ndarrays of different shapes. For example, broadcasting is used implicitly when doing arithmetic operations between scalars and ndarrays."
   ]
  },
  {
   "cell_type": "markdown",
   "metadata": {},
   "source": [
    "## Element-wise addition, subtraction, multiplication, and division, between ndarrays\n",
    "\n",
    "You can do basic element-wise calculations functionally (e.g. with `np.add()`) or by using arithmetic operators like such as `+`. Both forms will do the same operation, but with functional approach, you can set options using different keyword arguments. \n",
    "\n",
    "Note that these operations require the shapes of the ndarrays to match or to be broadcastable.\n",
    "\n",
    "### Rank 1 ndarrays"
   ]
  },
  {
   "cell_type": "code",
   "execution_count": 86,
   "metadata": {},
   "outputs": [
    {
     "name": "stdout",
     "output_type": "stream",
     "text": [
      "[1 2 3 4]\n",
      "[5.5 6.5 7.5 8.5]\n"
     ]
    }
   ],
   "source": [
    "# rank 1 ndarrays\n",
    "x = np.array([1,2,3,4])\n",
    "y = np.array([5.5,6.5,7.5,8.5])\n",
    "print(x)\n",
    "print(y)"
   ]
  },
  {
   "cell_type": "code",
   "execution_count": 87,
   "metadata": {},
   "outputs": [
    {
     "name": "stdout",
     "output_type": "stream",
     "text": [
      "[ 6.5  8.5 10.5 12.5]\n",
      "[ 6.5  8.5 10.5 12.5]\n"
     ]
    }
   ],
   "source": [
    "# Adding\n",
    "print(x + y)\n",
    "print(np.add(x, y))"
   ]
  },
  {
   "cell_type": "code",
   "execution_count": 88,
   "metadata": {},
   "outputs": [
    {
     "name": "stdout",
     "output_type": "stream",
     "text": [
      "[-4.5 -4.5 -4.5 -4.5]\n",
      "[-4.5 -4.5 -4.5 -4.5]\n"
     ]
    }
   ],
   "source": [
    "# subtracting\n",
    "print(x - y)\n",
    "print(np.subtract(x, y))"
   ]
  },
  {
   "cell_type": "code",
   "execution_count": 89,
   "metadata": {},
   "outputs": [
    {
     "name": "stdout",
     "output_type": "stream",
     "text": [
      "[ 5.5 13.  22.5 34. ]\n",
      "[ 5.5 13.  22.5 34. ]\n"
     ]
    }
   ],
   "source": [
    "# multiplying\n",
    "print(x * y)\n",
    "print(np.multiply(x, y))"
   ]
  },
  {
   "cell_type": "code",
   "execution_count": 90,
   "metadata": {},
   "outputs": [
    {
     "name": "stdout",
     "output_type": "stream",
     "text": [
      "[0.18181818 0.30769231 0.4        0.47058824]\n",
      "[0.18181818 0.30769231 0.4        0.47058824]\n"
     ]
    }
   ],
   "source": [
    "# dividing\n",
    "print(x / y)\n",
    "print(np.divide(x, y))"
   ]
  },
  {
   "cell_type": "markdown",
   "metadata": {},
   "source": [
    "### rank 2 ndarrays\n",
    "\n",
    "**must have the same shape or be broadcastable**"
   ]
  },
  {
   "cell_type": "code",
   "execution_count": 91,
   "metadata": {},
   "outputs": [
    {
     "name": "stdout",
     "output_type": "stream",
     "text": [
      "[[1 2]\n",
      " [3 4]]\n",
      "\n",
      "[[5.5 6.5]\n",
      " [7.5 8.5]]\n"
     ]
    }
   ],
   "source": [
    "# Rank 2 ndarrays\n",
    "X = np.array([1,2,3,4]).reshape(2,2)\n",
    "Y = np.array([5.5,6.5,7.5,8.5]).reshape(2,2)\n",
    "print(X)\n",
    "print()\n",
    "print(Y)"
   ]
  },
  {
   "cell_type": "code",
   "execution_count": 92,
   "metadata": {},
   "outputs": [
    {
     "name": "stdout",
     "output_type": "stream",
     "text": [
      "[[ 6.5  8.5]\n",
      " [10.5 12.5]]\n",
      "\n",
      "[[ 6.5  8.5]\n",
      " [10.5 12.5]]\n"
     ]
    }
   ],
   "source": [
    "# Adding\n",
    "print(X + Y)\n",
    "print()\n",
    "print(np.add(X, Y))"
   ]
  },
  {
   "cell_type": "code",
   "execution_count": 93,
   "metadata": {},
   "outputs": [
    {
     "name": "stdout",
     "output_type": "stream",
     "text": [
      "[[-4.5 -4.5]\n",
      " [-4.5 -4.5]]\n",
      "\n",
      "[[-4.5 -4.5]\n",
      " [-4.5 -4.5]]\n"
     ]
    }
   ],
   "source": [
    "# subtracting\n",
    "print(X - Y)\n",
    "print()\n",
    "print(np.subtract(X, Y))"
   ]
  },
  {
   "cell_type": "code",
   "execution_count": 94,
   "metadata": {},
   "outputs": [
    {
     "name": "stdout",
     "output_type": "stream",
     "text": [
      "[[ 5.5 13. ]\n",
      " [22.5 34. ]]\n",
      "\n",
      "[[ 5.5 13. ]\n",
      " [22.5 34. ]]\n"
     ]
    }
   ],
   "source": [
    "# multiplying\n",
    "print(X * Y)\n",
    "print()\n",
    "print(np.multiply(X, Y))"
   ]
  },
  {
   "cell_type": "code",
   "execution_count": 95,
   "metadata": {},
   "outputs": [
    {
     "name": "stdout",
     "output_type": "stream",
     "text": [
      "[[0.18181818 0.30769231]\n",
      " [0.4        0.47058824]]\n",
      "\n",
      "[[0.18181818 0.30769231]\n",
      " [0.4        0.47058824]]\n"
     ]
    }
   ],
   "source": [
    "# dividing\n",
    "print(X / Y)\n",
    "print()\n",
    "print(np.divide(X, Y))"
   ]
  },
  {
   "cell_type": "markdown",
   "metadata": {},
   "source": [
    "### Other mathematical functions\n",
    "NumPy has other mathematical functions, such as sqrt(x), which operate on all elements of an ndarray at once.\n",
    "\n",
    "#### Square root"
   ]
  },
  {
   "cell_type": "code",
   "execution_count": 96,
   "metadata": {},
   "outputs": [
    {
     "name": "stdout",
     "output_type": "stream",
     "text": [
      "[1 2 3 4]\n",
      "[1.         1.41421356 1.73205081 2.        ]\n"
     ]
    }
   ],
   "source": [
    "x = np.array([1,2,3,4])\n",
    "print(x)\n",
    "print(np.sqrt(x))"
   ]
  },
  {
   "cell_type": "markdown",
   "metadata": {},
   "source": [
    "#### EXP"
   ]
  },
  {
   "cell_type": "code",
   "execution_count": 97,
   "metadata": {},
   "outputs": [
    {
     "name": "stdout",
     "output_type": "stream",
     "text": [
      "[ 2.71828183  7.3890561  20.08553692 54.59815003]\n"
     ]
    }
   ],
   "source": [
    "print(np.exp(x))"
   ]
  },
  {
   "cell_type": "markdown",
   "metadata": {},
   "source": [
    "#### Power"
   ]
  },
  {
   "cell_type": "code",
   "execution_count": 98,
   "metadata": {},
   "outputs": [
    {
     "name": "stdout",
     "output_type": "stream",
     "text": [
      "[ 1  4  9 16]\n"
     ]
    }
   ],
   "source": [
    "# raise all elements to power of 2\n",
    "print(np.power(x, 2)) "
   ]
  },
  {
   "cell_type": "markdown",
   "metadata": {},
   "source": [
    "## Statistical functions\n",
    "\n",
    "You can get the mean, min, max, standard deviation, etc. with ndarray methods.\n"
   ]
  },
  {
   "cell_type": "code",
   "execution_count": 99,
   "metadata": {},
   "outputs": [
    {
     "name": "stdout",
     "output_type": "stream",
     "text": [
      "[[1 2]\n",
      " [3 4]]\n"
     ]
    }
   ],
   "source": [
    "# 2 x 2 ndarray\n",
    "X = np.array([[1,2], [3,4]])\n",
    "print(X)"
   ]
  },
  {
   "cell_type": "code",
   "execution_count": 100,
   "metadata": {},
   "outputs": [
    {
     "name": "stdout",
     "output_type": "stream",
     "text": [
      "2.5\n",
      "[2. 3.]\n",
      "[1.5 3.5]\n"
     ]
    }
   ],
   "source": [
    "# Mean of all elements of X\n",
    "print(X.mean())\n",
    "\n",
    "# Mean of all elements in columns of X\n",
    "print(X.mean(axis=0))\n",
    "\n",
    "# Mean of all elements in rows of X\n",
    "print(X.mean(axis=1))"
   ]
  },
  {
   "cell_type": "code",
   "execution_count": 101,
   "metadata": {},
   "outputs": [
    {
     "name": "stdout",
     "output_type": "stream",
     "text": [
      "10\n",
      "[4 6]\n",
      "[3 7]\n"
     ]
    }
   ],
   "source": [
    "# Sum of all elements of X\n",
    "print(X.sum())\n",
    "\n",
    "# Sum of all elements in columns of X\n",
    "print(X.sum(axis=0))\n",
    "\n",
    "# Sum of all elements in rows of X\n",
    "print(X.sum(axis=1))"
   ]
  },
  {
   "cell_type": "code",
   "execution_count": 102,
   "metadata": {},
   "outputs": [
    {
     "name": "stdout",
     "output_type": "stream",
     "text": [
      "1.118033988749895\n",
      "[1. 1.]\n",
      "[0.5 0.5]\n"
     ]
    }
   ],
   "source": [
    "# Standard deviation of all elements of X\n",
    "print(X.std())\n",
    "\n",
    "# Standard deviation of all elements in columns of X\n",
    "print(X.std(axis=0))\n",
    "\n",
    "# Standard deviation of all elements in rows of X\n",
    "print(X.std(axis=1))"
   ]
  },
  {
   "cell_type": "code",
   "execution_count": 103,
   "metadata": {},
   "outputs": [
    {
     "name": "stdout",
     "output_type": "stream",
     "text": [
      "2.5\n",
      "[2. 3.]\n",
      "[1.5 3.5]\n"
     ]
    }
   ],
   "source": [
    "# Median of all elements\n",
    "print(np.median(X))\n",
    "\n",
    "# Median of all elements in columns of X\n",
    "print(np.median(X, axis=0))\n",
    "\n",
    "# Median of all elements in rows of X\n",
    "print(np.median(X, axis=1))"
   ]
  },
  {
   "cell_type": "code",
   "execution_count": 104,
   "metadata": {},
   "outputs": [
    {
     "name": "stdout",
     "output_type": "stream",
     "text": [
      "4\n",
      "[3 4]\n",
      "[2 4]\n"
     ]
    }
   ],
   "source": [
    "# Max of all elements of X\n",
    "print(X.max())\n",
    "\n",
    "# Max of all elements in columns of X\n",
    "print(X.max(axis=0))\n",
    "\n",
    "# Max of all elements in rows of X\n",
    "print(X.max(axis=1))"
   ]
  },
  {
   "cell_type": "code",
   "execution_count": 105,
   "metadata": {},
   "outputs": [
    {
     "name": "stdout",
     "output_type": "stream",
     "text": [
      "1\n",
      "[1 2]\n",
      "[1 3]\n"
     ]
    }
   ],
   "source": [
    "# Min of all elements of X\n",
    "print(X.min())\n",
    "\n",
    "# Min of all elements in columns of X\n",
    "print(X.min(axis=0))\n",
    "\n",
    "# Min of all elements in rows of X\n",
    "print(X.min(axis=1))"
   ]
  },
  {
   "cell_type": "markdown",
   "metadata": {},
   "source": [
    "## Add, subtract, multiply, divide simple numbers to each element\n",
    "\n",
    "This uses broadcasting to apply the single-number operation along the ndarray in a way that the number and array have the same shape. For example, that lets us add 3 to each element of a multi-dimensional ndarray `X` with just one line of code."
   ]
  },
  {
   "cell_type": "code",
   "execution_count": 106,
   "metadata": {},
   "outputs": [
    {
     "name": "stdout",
     "output_type": "stream",
     "text": [
      "[[1 2]\n",
      " [3 4]]\n"
     ]
    }
   ],
   "source": [
    "# We create a 2 x 2 ndarray\n",
    "X = np.array([[1,2], [3,4]])\n",
    "print(X)"
   ]
  },
  {
   "cell_type": "code",
   "execution_count": 107,
   "metadata": {},
   "outputs": [
    {
     "name": "stdout",
     "output_type": "stream",
     "text": [
      "[[4 5]\n",
      " [6 7]]\n"
     ]
    }
   ],
   "source": [
    "# adding\n",
    "print(3 + X)"
   ]
  },
  {
   "cell_type": "code",
   "execution_count": 108,
   "metadata": {},
   "outputs": [
    {
     "name": "stdout",
     "output_type": "stream",
     "text": [
      "[[ 2  1]\n",
      " [ 0 -1]]\n"
     ]
    }
   ],
   "source": [
    "# substracting\n",
    "print(3 - X)"
   ]
  },
  {
   "cell_type": "code",
   "execution_count": 109,
   "metadata": {},
   "outputs": [
    {
     "name": "stdout",
     "output_type": "stream",
     "text": [
      "[[ 3  6]\n",
      " [ 9 12]]\n"
     ]
    }
   ],
   "source": [
    "# multiplying\n",
    "print(3 * X)"
   ]
  },
  {
   "cell_type": "code",
   "execution_count": 110,
   "metadata": {},
   "outputs": [
    {
     "name": "stdout",
     "output_type": "stream",
     "text": [
      "[[3.   1.5 ]\n",
      " [1.   0.75]]\n"
     ]
    }
   ],
   "source": [
    "# dividing\n",
    "print(3 / X)"
   ]
  },
  {
   "cell_type": "markdown",
   "metadata": {},
   "source": [
    "Numpy can do the same for two ndarrays of different shapes, to some extent, as below:"
   ]
  },
  {
   "cell_type": "code",
   "execution_count": 111,
   "metadata": {},
   "outputs": [
    {
     "name": "stdout",
     "output_type": "stream",
     "text": [
      "[1 2 3]\n",
      "\n",
      "[[1 2 3]\n",
      " [4 5 6]\n",
      " [7 8 9]]\n",
      "\n",
      "[[1]\n",
      " [2]\n",
      " [3]]\n"
     ]
    }
   ],
   "source": [
    "# Create a rank 1 ndarray\n",
    "x = np.array([1,2,3])\n",
    "\n",
    "# Create a 3 x 3 ndarray\n",
    "Y = np.array([[1,2,3],[4,5,6],[7,8,9]])\n",
    "\n",
    "# Create a 3 x 1 ndarray\n",
    "Z = np.array([1,2,3]).reshape(3,1)\n",
    "\n",
    "print(x)\n",
    "print()\n",
    "print(Y)\n",
    "print()\n",
    "print(Z)"
   ]
  },
  {
   "cell_type": "code",
   "execution_count": 112,
   "metadata": {},
   "outputs": [
    {
     "name": "stdout",
     "output_type": "stream",
     "text": [
      "[[ 2  4  6]\n",
      " [ 5  7  9]\n",
      " [ 8 10 12]]\n"
     ]
    }
   ],
   "source": [
    "# add a 1 x 3 ndarray to 3 x 3 ndarray\n",
    "print(x + Y)"
   ]
  },
  {
   "cell_type": "code",
   "execution_count": 113,
   "metadata": {},
   "outputs": [
    {
     "name": "stdout",
     "output_type": "stream",
     "text": [
      "[[ 2  3  4]\n",
      " [ 6  7  8]\n",
      " [10 11 12]]\n"
     ]
    }
   ],
   "source": [
    "# add 3 x 1 ndarray to 3 x 3 ndarray\n",
    "print(Z + Y)"
   ]
  },
  {
   "cell_type": "markdown",
   "metadata": {},
   "source": [
    "NumPy Documentation for Broadcasting and its rules:\n",
    "[Broadcasting](https://docs.scipy.org/doc/numpy-1.13.0/user/basics.broadcasting.html)"
   ]
  }
 ],
 "metadata": {
  "kernelspec": {
   "display_name": "Python [conda env:py3] *",
   "language": "python",
   "name": "conda-env-py3-py"
  },
  "language_info": {
   "codemirror_mode": {
    "name": "ipython",
    "version": 3
   },
   "file_extension": ".py",
   "mimetype": "text/x-python",
   "name": "python",
   "nbconvert_exporter": "python",
   "pygments_lexer": "ipython3",
   "version": "3.7.7"
  }
 },
 "nbformat": 4,
 "nbformat_minor": 4
}
